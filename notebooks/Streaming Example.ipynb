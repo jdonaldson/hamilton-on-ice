{
 "cells": [
  {
   "cell_type": "code",
   "execution_count": 1,
   "id": "bd74cc35",
   "metadata": {},
   "outputs": [],
   "source": [
    "from hamilton_ice.pipeline import get_func_args, object_io_nodes, build_pipeline\n",
    "from hamilton_ice.io.artifact import artifact\n",
    "from hamilton_ice.io.jsonl import jsonl_source, jsonl\n",
    "\n",
    "\n",
    "class Example:\n",
    "    @artifact\n",
    "    def foo(bar, baz):\n",
    "        return {\"bar\": bar[\"bar\"], \"baz\": baz[\"baz\"]}\n",
    "\n",
    "    @artifact\n",
    "    def bar():\n",
    "        return {\"bar\": 1}\n",
    "\n",
    "    @artifact\n",
    "    def baz():\n",
    "        return {\"baz\": 2}\n",
    "\n",
    "    @staticmethod\n",
    "    def bing():\n",
    "        pass\n",
    "\n",
    "    @jsonl_source\n",
    "    def dummy_source():\n",
    "        pass\n",
    "\n",
    "    @jsonl\n",
    "    def dummy_io():\n",
    "        pass\n",
    "\n",
    "    \n",
    "build_pipeline(Example)"
   ]
  },
  {
   "cell_type": "code",
   "execution_count": 2,
   "id": "904818b5",
   "metadata": {},
   "outputs": [
    {
     "data": {
      "text/plain": [
       "{'bar': 1, 'baz': 2}"
      ]
     },
     "execution_count": 2,
     "metadata": {},
     "output_type": "execute_result"
    }
   ],
   "source": [
    "next(Example.foo.generator())"
   ]
  },
  {
   "cell_type": "code",
   "execution_count": null,
   "id": "8626821a",
   "metadata": {},
   "outputs": [],
   "source": []
  }
 ],
 "metadata": {
  "kernelspec": {
   "display_name": "Python 3 (ipykernel)",
   "language": "python",
   "name": "python3"
  },
  "language_info": {
   "codemirror_mode": {
    "name": "ipython",
    "version": 3
   },
   "file_extension": ".py",
   "mimetype": "text/x-python",
   "name": "python",
   "nbconvert_exporter": "python",
   "pygments_lexer": "ipython3",
   "version": "3.10.9"
  }
 },
 "nbformat": 4,
 "nbformat_minor": 5
}
