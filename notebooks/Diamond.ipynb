{
 "cells": [
  {
   "cell_type": "code",
   "execution_count": 3,
   "id": "fad524b3",
   "metadata": {},
   "outputs": [],
   "source": [
    "from hamilton_ice.pipeline import get_func_args, object_io_nodes, build_pipeline\n",
    "from hamilton_ice.io.artifact import artifact\n",
    "from hamilton_ice.io.pandas import pandas_csv_source, pandas_msgpack\n",
    "from hamilton_ice.io.dummy import dummy\n",
    "from hamilton_ice.util.graphviz import dag_plot\n",
    "import pandas as pd\n",
    "import numpy as np\n",
    "import random\n",
    "import torch\n",
    "from dataclasses import dataclass\n",
    "from hamilton_ice.util.graphviz import dag_plot\n",
    "\n",
    "import warnings\n",
    "warnings.simplefilter(action='ignore', category=FutureWarning)\n",
    "\n"
   ]
  },
  {
   "cell_type": "code",
   "execution_count": 14,
   "id": "bf08a2db",
   "metadata": {},
   "outputs": [],
   "source": [
    "class Diamond:\n",
    "    @artifact\n",
    "    def conf():\n",
    "        return 0\n",
    "    \n",
    "    @dummy\n",
    "    def foo(conf):\n",
    "        for i in range(0,10):\n",
    "            yield i\n",
    "    \n",
    "    @dummy\n",
    "    def bar(foo):\n",
    "        yield foo + 100\n",
    "    \n",
    "    @dummy\n",
    "    def baz(foo):\n",
    "        yield foo + 1000\n",
    "        \n",
    "    \n",
    "    @dummy\n",
    "    def bing(bar, baz):\n",
    "        yield bar + baz\n",
    "\n",
    "build_pipeline(Diamond)"
   ]
  },
  {
   "cell_type": "code",
   "execution_count": 16,
   "id": "ad71ce08",
   "metadata": {},
   "outputs": [
    {
     "name": "stdout",
     "output_type": "stream",
     "text": [
      "1100\n",
      "1102\n",
      "1104\n",
      "1106\n",
      "1108\n",
      "1110\n",
      "1112\n",
      "1114\n",
      "1116\n",
      "1118\n"
     ]
    }
   ],
   "source": [
    "for result in Diamond.bing.generator():\n",
    "    print(result)"
   ]
  },
  {
   "cell_type": "code",
   "execution_count": null,
   "id": "5f657a55",
   "metadata": {},
   "outputs": [],
   "source": []
  }
 ],
 "metadata": {
  "kernelspec": {
   "display_name": "Python 3 (ipykernel)",
   "language": "python",
   "name": "python3"
  },
  "language_info": {
   "codemirror_mode": {
    "name": "ipython",
    "version": 3
   },
   "file_extension": ".py",
   "mimetype": "text/x-python",
   "name": "python",
   "nbconvert_exporter": "python",
   "pygments_lexer": "ipython3",
   "version": "3.10.9"
  }
 },
 "nbformat": 4,
 "nbformat_minor": 5
}
